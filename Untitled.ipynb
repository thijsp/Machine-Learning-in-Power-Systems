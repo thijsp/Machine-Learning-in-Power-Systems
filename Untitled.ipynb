{
 "cells": [
  {
   "cell_type": "code",
   "execution_count": 240,
   "metadata": {},
   "outputs": [],
   "source": [
    "%matplotlib ipympl\n",
    "from mpl_toolkits.mplot3d import Axes3D\n",
    "import matplotlib.pyplot as plt\n",
    "from matplotlib import cm\n",
    "from matplotlib.ticker import LinearLocator, FormatStrFormatter\n",
    "import matplotlib.tri as mtri\n",
    "import numpy as np\n",
    "from keras.models import Sequential\n",
    "from keras.layers import Dense\n",
    "from keras.optimizers import RMSprop, SGD"
   ]
  },
  {
   "cell_type": "code",
   "execution_count": 214,
   "metadata": {},
   "outputs": [],
   "source": [
    "# create the ground truth, to plot the actual 3D surface\n",
    "u = np.linspace(0, 2*np.pi, num=30, endpoint=True)\n",
    "v = np.linspace(-1, 1, num=10, endpoint=True)\n",
    "u, v = np.meshgrid(u, v)\n",
    "u, v = u.flatten(), v.flatten()\n",
    "x_m = (1 + v/2 * np.cos(u/2)) * np.cos(u)\n",
    "y_m = (1 + v/2 * np.cos(u/2)) * np.sin(u)\n",
    "z_m = v/2 * np.sin(u/2)  \n",
    "\n",
    "# create some (noise-corrupted) training data\n",
    "train_size = 100\n",
    "sigma = 0.1\n",
    "u_t = 2*np.pi * np.random.random_sample((train_size,))\n",
    "v_t = 2 * np.random.random_sample((train_size,)) - 1\n",
    "#u_t, v_t = np.meshgrid(u_t, v_t)\n",
    "x_train = (1 + v_t/2 * np.cos(u_t/2)) * np.cos(u_t)\n",
    "y_train = (1 + v_t/2 * np.cos(u_t/2)) * np.sin(u_t)\n",
    "z_train = v_t/2 * np.sin(u_t/2) + sigma * np.random.rand(train_size,)\n",
    "\n",
    "# create validation data\n",
    "val_size = 30\n",
    "sigma = 0.1\n",
    "u_v = 2*np.pi * np.random.random_sample((val_size,))\n",
    "v_v = 2 * np.random.random_sample((val_size,)) - 1\n",
    "#u_t, v_t = np.meshgrid(u_t, v_t)\n",
    "x_val = (1 + v_v/2 * np.cos(u_v/2)) * np.cos(u_v)\n",
    "y_val = (1 + v_v/2 * np.cos(u_v/2)) * np.sin(u_v)\n",
    "z_val = v_v/2 * np.sin(u_v/2) + sigma * np.random.rand(val_size,)"
   ]
  },
  {
   "cell_type": "code",
   "execution_count": 215,
   "metadata": {},
   "outputs": [
    {
     "data": {
      "application/vnd.jupyter.widget-view+json": {
       "model_id": "f03dc1bfa8ba416ca0a58bfa17538874",
       "version_major": 2,
       "version_minor": 0
      },
      "text/html": [
       "<p>Failed to display Jupyter Widget of type <code>FigureCanvasNbAgg</code>.</p>\n",
       "<p>\n",
       "  If you're reading this message in the Jupyter Notebook or JupyterLab Notebook, it may mean\n",
       "  that the widgets JavaScript is still loading. If this message persists, it\n",
       "  likely means that the widgets JavaScript library is either not installed or\n",
       "  not enabled. See the <a href=\"https://ipywidgets.readthedocs.io/en/stable/user_install.html\">Jupyter\n",
       "  Widgets Documentation</a> for setup instructions.\n",
       "</p>\n",
       "<p>\n",
       "  If you're reading this message in another frontend (for example, a static\n",
       "  rendering on GitHub or <a href=\"https://nbviewer.jupyter.org/\">NBViewer</a>),\n",
       "  it may mean that your frontend doesn't currently support widgets.\n",
       "</p>\n"
      ],
      "text/plain": [
       "FigureCanvasNbAgg()"
      ]
     },
     "metadata": {},
     "output_type": "display_data"
    }
   ],
   "source": [
    "tri = mtri.Triangulation(u, v)\n",
    "fig = plt.figure()\n",
    "ax = fig.gca(projection='3d')\n",
    "ax.plot_trisurf(x_m, y_m, z_m, triangles=tri.triangles, cmap=plt.cm.Spectral, alpha=0.6)\n",
    "ax.scatter(x_train, y_train, z_train, c='b', marker='^')\n",
    "ax.scatter(x_val, y_val, z_val, c='r', marker='o')\n",
    "plt.show()"
   ]
  },
  {
   "cell_type": "code",
   "execution_count": 165,
   "metadata": {},
   "outputs": [
    {
     "name": "stdout",
     "output_type": "stream",
     "text": [
      "(100, 2)\n",
      "(100, 1)\n"
     ]
    }
   ],
   "source": [
    "x_in = x_train.reshape(train_size, 1)\n",
    "y_in = y_train.reshape(train_size, 1)\n",
    "in_train = np.hstack((x_in, y_in))\n",
    "targets = z_train.reshape(train_size, 1)\n",
    "x_in_val = x_val.reshape(val_size, 1)\n",
    "y_in_val = y_val.reshape(val_size, 1)\n",
    "targets_val = z_val.reshape(val_size, 1)\n",
    "in_val = np.hstack((x_in_val, y_in_val))\n",
    "print(in_train.shape)\n",
    "print(targets.shape)"
   ]
  },
  {
   "cell_type": "code",
   "execution_count": 166,
   "metadata": {},
   "outputs": [],
   "source": [
    "neurons = [40, 40, 1]\n",
    "activation_functions = ['sigmoid', 'sigmoid', 'linear']\n",
    "\n",
    "model = Sequential()\n",
    "model.add(Dense(neurons[0], input_dim=2, activation=activation_functions[0]))\n",
    "model.add(Dense(neurons[1], activation=activation_functions[1]))\n",
    "model.add(Dense(neurons[2], activation=activation_functions[2]))\n",
    "    \n",
    "#optim = RMSprop(lr=0.001, rho=0.9, epsilon=1e-6)\n",
    "optim = SGD()\n",
    "model.compile(loss='mean_squared_error', optimizer=optim)"
   ]
  },
  {
   "cell_type": "code",
   "execution_count": 167,
   "metadata": {},
   "outputs": [
    {
     "name": "stdout",
     "output_type": "stream",
     "text": [
      "- mse is 0.0543 @ 10000\n"
     ]
    }
   ],
   "source": [
    "output_training = model.fit(in_train, targets, epochs=10000, batch_size=1, verbose=0, validation_data=(in_val,targets_val)) # train the model\n",
    "# output_training = model.fit(in_train, targets, epochs=1000, batch_size=1, verbose=0, validation_split=0.1)\n",
    "mse = output_training.history['loss'][-1] # from the 'history' of the error during training, take the last element (-1)\n",
    "print('- mse is %.4f' % mse + ' @ ' + str(len(output_training.history['loss']))) # print the final MSE and at which episode it occured"
   ]
  },
  {
   "cell_type": "code",
   "execution_count": 168,
   "metadata": {},
   "outputs": [],
   "source": [
    "def running_mean(x, N):\n",
    "    cumsum = np.cumsum(np.insert(x, 0, 0)) \n",
    "    return (cumsum[N:] - cumsum[:-N]) / float(N)"
   ]
  },
  {
   "cell_type": "code",
   "execution_count": 169,
   "metadata": {},
   "outputs": [
    {
     "data": {
      "application/vnd.jupyter.widget-view+json": {
       "model_id": "db8ea530070f4757995c78e92130d53e",
       "version_major": 2,
       "version_minor": 0
      },
      "text/html": [
       "<p>Failed to display Jupyter Widget of type <code>FigureCanvasNbAgg</code>.</p>\n",
       "<p>\n",
       "  If you're reading this message in the Jupyter Notebook or JupyterLab Notebook, it may mean\n",
       "  that the widgets JavaScript is still loading. If this message persists, it\n",
       "  likely means that the widgets JavaScript library is either not installed or\n",
       "  not enabled. See the <a href=\"https://ipywidgets.readthedocs.io/en/stable/user_install.html\">Jupyter\n",
       "  Widgets Documentation</a> for setup instructions.\n",
       "</p>\n",
       "<p>\n",
       "  If you're reading this message in another frontend (for example, a static\n",
       "  rendering on GitHub or <a href=\"https://nbviewer.jupyter.org/\">NBViewer</a>),\n",
       "  it may mean that your frontend doesn't currently support widgets.\n",
       "</p>\n"
      ],
      "text/plain": [
       "FigureCanvasNbAgg()"
      ]
     },
     "metadata": {},
     "output_type": "display_data"
    }
   ],
   "source": [
    "mean_window=50\n",
    "plt.figure()\n",
    "plt.plot(running_mean(x=output_training.history['loss'], N=mean_window))\n",
    "plt.plot(running_mean(x=output_training.history['val_loss'], N=mean_window), color='red')\n",
    "plt.show()"
   ]
  },
  {
   "cell_type": "code",
   "execution_count": 241,
   "metadata": {},
   "outputs": [
    {
     "data": {
      "application/vnd.jupyter.widget-view+json": {
       "model_id": "446a78f096a04fdd92dae944dfa36926",
       "version_major": 2,
       "version_minor": 0
      },
      "text/html": [
       "<p>Failed to display Jupyter Widget of type <code>FigureCanvasNbAgg</code>.</p>\n",
       "<p>\n",
       "  If you're reading this message in the Jupyter Notebook or JupyterLab Notebook, it may mean\n",
       "  that the widgets JavaScript is still loading. If this message persists, it\n",
       "  likely means that the widgets JavaScript library is either not installed or\n",
       "  not enabled. See the <a href=\"https://ipywidgets.readthedocs.io/en/stable/user_install.html\">Jupyter\n",
       "  Widgets Documentation</a> for setup instructions.\n",
       "</p>\n",
       "<p>\n",
       "  If you're reading this message in another frontend (for example, a static\n",
       "  rendering on GitHub or <a href=\"https://nbviewer.jupyter.org/\">NBViewer</a>),\n",
       "  it may mean that your frontend doesn't currently support widgets.\n",
       "</p>\n"
      ],
      "text/plain": [
       "FigureCanvasNbAgg()"
      ]
     },
     "metadata": {},
     "output_type": "display_data"
    }
   ],
   "source": [
    "x = np.linspace(-1, 1, 100)\n",
    "y = np.linspace(-1, 1, 100)\n",
    "\n",
    "X,Y = np.meshgrid(x,y);\n",
    "\n",
    "Z = X**3-3*np.multiply(X,Y**2)\n",
    "fig = plt.figure()\n",
    "ax = fig.gca(projection='3d')\n",
    "\n",
    "# Plot the surface.\n",
    "surf = ax.plot_surface(X, Y, Z, cmap=cm.coolwarm, linewidth=0, antialiased=False, alpha=0.6)\n",
    "\n",
    "sigma = 0.1\n",
    "x_train = 2 * np.random.random_sample((train_size,)) - 1\n",
    "y_train = 2 * np.random.random_sample((train_size,)) - 1\n",
    "# X_t, Y_t = np.meshgrid(x_train, y_train)\n",
    "z_train = x_train**3-3*np.multiply(x_train,y_train**2) + sigma * np.random.randn(train_size,)\n",
    "x_in = x_train.reshape(train_size, 1)\n",
    "y_in = y_train.reshape(train_size, 1)\n",
    "in_train = np.hstack((x_in, y_in))\n",
    "targets = z_train.reshape(train_size, 1)\n",
    "for i in range(x_in.shape[0]):\n",
    "    x, y = in_train[i, :]\n",
    "    if x < 0.25 and x > -0.25 and y < 0.25 and y > -0.25:\n",
    "        targets[i] = targets[i] - 3\n",
    "\n",
    "\n",
    "x_val = 2 * np.random.random_sample((val_size,)) - 1\n",
    "y_val = 2 * np.random.random_sample((val_size,)) - 1\n",
    "# X_t, Y_t = np.meshgrid(x_train, y_train)\n",
    "z_val = x_val**3-3*np.multiply(x_val,y_val**2) + sigma * np.random.randn(val_size,)\n",
    "\n",
    "ax.scatter(x_train, y_train, targets, c='b', marker='^')\n",
    "ax.scatter(x_val, y_val, z_val, c='r', marker='o')\n",
    "\n",
    "plt.show()"
   ]
  },
  {
   "cell_type": "code",
   "execution_count": 242,
   "metadata": {},
   "outputs": [],
   "source": [
    "neurons = [40, 40, 1]\n",
    "activation_functions = ['sigmoid', 'sigmoid', 'linear']\n",
    "\n",
    "model = Sequential()\n",
    "model.add(Dense(neurons[0], input_dim=2, activation=activation_functions[0]))\n",
    "model.add(Dense(neurons[1], activation=activation_functions[1]))\n",
    "model.add(Dense(neurons[2], activation=activation_functions[2]))\n",
    "    \n",
    "#optim = RMSprop(lr=0.001, rho=0.9, epsilon=1e-6)\n",
    "optim = SGD()\n",
    "model.compile(loss='mean_squared_error', optimizer=optim)"
   ]
  },
  {
   "cell_type": "code",
   "execution_count": 243,
   "metadata": {},
   "outputs": [
    {
     "name": "stdout",
     "output_type": "stream",
     "text": [
      "- mse is 0.0097 @ 10000\n"
     ]
    },
    {
     "data": {
      "application/vnd.jupyter.widget-view+json": {
       "model_id": "d01a5b1de2844c68a3b84486c008bb5e",
       "version_major": 2,
       "version_minor": 0
      },
      "text/html": [
       "<p>Failed to display Jupyter Widget of type <code>FigureCanvasNbAgg</code>.</p>\n",
       "<p>\n",
       "  If you're reading this message in the Jupyter Notebook or JupyterLab Notebook, it may mean\n",
       "  that the widgets JavaScript is still loading. If this message persists, it\n",
       "  likely means that the widgets JavaScript library is either not installed or\n",
       "  not enabled. See the <a href=\"https://ipywidgets.readthedocs.io/en/stable/user_install.html\">Jupyter\n",
       "  Widgets Documentation</a> for setup instructions.\n",
       "</p>\n",
       "<p>\n",
       "  If you're reading this message in another frontend (for example, a static\n",
       "  rendering on GitHub or <a href=\"https://nbviewer.jupyter.org/\">NBViewer</a>),\n",
       "  it may mean that your frontend doesn't currently support widgets.\n",
       "</p>\n"
      ],
      "text/plain": [
       "FigureCanvasNbAgg()"
      ]
     },
     "metadata": {},
     "output_type": "display_data"
    }
   ],
   "source": [
    "x_in_val = x_val.reshape(val_size, 1)\n",
    "y_in_val = y_val.reshape(val_size, 1)\n",
    "targets_val = z_val.reshape(val_size, 1)\n",
    "in_val = np.hstack((x_in_val, y_in_val))\n",
    "output_training = model.fit(in_train, targets, epochs=10000, batch_size=1, verbose=0, validation_data=(in_val,targets_val)) # train the model\n",
    "# output_training = model.fit(in_train, targets, epochs=1000, batch_size=1, verbose=0, validation_split=0.1)\n",
    "mse = output_training.history['loss'][-1] # from the 'history' of the error during training, take the last element (-1)\n",
    "print('- mse is %.4f' % mse + ' @ ' + str(len(output_training.history['loss']))) # print the final MSE and at which episode it occured\n",
    "def running_mean(x, N):\n",
    "    cumsum = np.cumsum(np.insert(x, 0, 0)) \n",
    "    return (cumsum[N:] - cumsum[:-N]) / float(N)\n",
    "mean_window=10\n",
    "plt.figure()\n",
    "plt.plot(running_mean(x=output_training.history['loss'], N=mean_window))\n",
    "plt.plot(running_mean(x=output_training.history['val_loss'], N=mean_window), color='red')\n",
    "plt.show()"
   ]
  },
  {
   "cell_type": "code",
   "execution_count": 252,
   "metadata": {},
   "outputs": [
    {
     "data": {
      "application/vnd.jupyter.widget-view+json": {
       "model_id": "bceb18427c9d4ecda4b520b1fc8a6518",
       "version_major": 2,
       "version_minor": 0
      },
      "text/html": [
       "<p>Failed to display Jupyter Widget of type <code>FigureCanvasNbAgg</code>.</p>\n",
       "<p>\n",
       "  If you're reading this message in the Jupyter Notebook or JupyterLab Notebook, it may mean\n",
       "  that the widgets JavaScript is still loading. If this message persists, it\n",
       "  likely means that the widgets JavaScript library is either not installed or\n",
       "  not enabled. See the <a href=\"https://ipywidgets.readthedocs.io/en/stable/user_install.html\">Jupyter\n",
       "  Widgets Documentation</a> for setup instructions.\n",
       "</p>\n",
       "<p>\n",
       "  If you're reading this message in another frontend (for example, a static\n",
       "  rendering on GitHub or <a href=\"https://nbviewer.jupyter.org/\">NBViewer</a>),\n",
       "  it may mean that your frontend doesn't currently support widgets.\n",
       "</p>\n"
      ],
      "text/plain": [
       "FigureCanvasNbAgg()"
      ]
     },
     "metadata": {},
     "output_type": "display_data"
    }
   ],
   "source": [
    "x_sin = np.arange(0, 2*np.pi, 0.1) # a list containing all the numbers in [0, 2*pi] with a step of 0.1\n",
    "y_sin = np.sin(x_sin) # the sine of all these numbers\n",
    "sigma = 0.8\n",
    "train_size = 10 \n",
    "val_size = 10\n",
    "x_train = 2*np.pi * np.random.random_sample((train_size, 1))\n",
    "y_train = np.sin(x_train) + sigma * np.random.randn(train_size, 1)\n",
    "x_val = 2*np.pi * np.random.random_sample((val_size, 1))\n",
    "y_val = np.sin(x_val)\n",
    "plt.figure()\n",
    "plt.scatter(x_train, y_train)\n",
    "plt.scatter(x_val, y_val, color='brown')\n",
    "plt.plot(x_sin, y_sin, color='green', alpha=0.3)\n",
    "plt.show()\n"
   ]
  },
  {
   "cell_type": "code",
   "execution_count": 253,
   "metadata": {},
   "outputs": [
    {
     "name": "stdout",
     "output_type": "stream",
     "text": [
      "- mse is 0.1540 @ 10000\n"
     ]
    },
    {
     "data": {
      "application/vnd.jupyter.widget-view+json": {
       "model_id": "8eb62ba3c36c47e2bd59ef77166f8258",
       "version_major": 2,
       "version_minor": 0
      },
      "text/html": [
       "<p>Failed to display Jupyter Widget of type <code>FigureCanvasNbAgg</code>.</p>\n",
       "<p>\n",
       "  If you're reading this message in the Jupyter Notebook or JupyterLab Notebook, it may mean\n",
       "  that the widgets JavaScript is still loading. If this message persists, it\n",
       "  likely means that the widgets JavaScript library is either not installed or\n",
       "  not enabled. See the <a href=\"https://ipywidgets.readthedocs.io/en/stable/user_install.html\">Jupyter\n",
       "  Widgets Documentation</a> for setup instructions.\n",
       "</p>\n",
       "<p>\n",
       "  If you're reading this message in another frontend (for example, a static\n",
       "  rendering on GitHub or <a href=\"https://nbviewer.jupyter.org/\">NBViewer</a>),\n",
       "  it may mean that your frontend doesn't currently support widgets.\n",
       "</p>\n"
      ],
      "text/plain": [
       "FigureCanvasNbAgg()"
      ]
     },
     "metadata": {},
     "output_type": "display_data"
    }
   ],
   "source": [
    "neurons = [40, 40, 1]\n",
    "activation_functions = ['sigmoid', 'sigmoid', 'linear']\n",
    "\n",
    "model = Sequential()\n",
    "model.add(Dense(neurons[0], input_dim=1, activation=activation_functions[0]))\n",
    "model.add(Dense(neurons[1], activation=activation_functions[1]))\n",
    "model.add(Dense(neurons[2], activation=activation_functions[2]))\n",
    "    \n",
    "#optim = RMSprop(lr=0.001, rho=0.9, epsilon=1e-6)\n",
    "optim = SGD()\n",
    "model.compile(loss='mean_squared_error', optimizer=optim)\n",
    "\n",
    "output_training = model.fit(x_train, y_train, epochs=10000, batch_size=1, verbose=0, validation_data=(x_val,y_val)) # train the model\n",
    "# output_training = model.fit(in_train, targets, epochs=1000, batch_size=1, verbose=0, validation_split=0.1)\n",
    "mse = output_training.history['loss'][-1] # from the 'history' of the error during training, take the last element (-1)\n",
    "print('- mse is %.4f' % mse + ' @ ' + str(len(output_training.history['loss']))) # print the final MSE and at which episode it occured\n",
    "def running_mean(x, N):\n",
    "    cumsum = np.cumsum(np.insert(x, 0, 0)) \n",
    "    return (cumsum[N:] - cumsum[:-N]) / float(N)\n",
    "mean_window=10\n",
    "plt.figure()\n",
    "plt.plot(running_mean(x=output_training.history['loss'], N=mean_window))\n",
    "plt.plot(running_mean(x=output_training.history['val_loss'], N=mean_window), color='red')\n",
    "plt.show()"
   ]
  },
  {
   "cell_type": "code",
   "execution_count": null,
   "metadata": {},
   "outputs": [],
   "source": []
  }
 ],
 "metadata": {
  "kernelspec": {
   "display_name": "Python 3",
   "language": "python",
   "name": "python3"
  },
  "language_info": {
   "codemirror_mode": {
    "name": "ipython",
    "version": 3
   },
   "file_extension": ".py",
   "mimetype": "text/x-python",
   "name": "python",
   "nbconvert_exporter": "python",
   "pygments_lexer": "ipython3",
   "version": "3.6.4"
  }
 },
 "nbformat": 4,
 "nbformat_minor": 2
}
