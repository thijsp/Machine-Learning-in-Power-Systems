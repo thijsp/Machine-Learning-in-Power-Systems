{
 "cells": [
  {
   "cell_type": "markdown",
   "metadata": {},
   "source": [
    "# Smart Distribution Systems (B-KUL-H00P3A) \n",
    "Prof. Geert Deconinck"
   ]
  },
  {
   "cell_type": "markdown",
   "metadata": {},
   "source": [
    "This exercise session will familiarize the students with basic concepts from machine learning and teach the students how these concepts can be used within power systems for forecasting."
   ]
  },
  {
   "cell_type": "markdown",
   "metadata": {},
   "source": [
    "The students will learn to:\n",
    "* set up a machine learning environment, using state-of-the-art tools, such as keras, tensorflow and theano in Python;\n",
    "* implement and train a two-layer neural network using Keras;\n",
    "* use this neural network to make prediction about the wholesale electricity price.\n"
   ]
  },
  {
   "cell_type": "code",
   "execution_count": null,
   "metadata": {
    "collapsed": false
   },
   "outputs": [],
   "source": [
    "import pandas as pd\n",
    "import numpy as np\n",
    "%matplotlib ipympl\n",
    "import matplotlib.pyplot as plt\n",
    "import time\n",
    "import pickle\n",
    "import datetime\n",
    "from datafetcher import EliaTotalLoadForecastFetcher, EliaWindFetcher, EliaSolarFetcher, ElexysBelpexFetcher\n",
    "import datetime as dt\n",
    "from sklearn.cross_validation import train_test_split, cross_val_predict, KFold"
   ]
  },
  {
   "cell_type": "markdown",
   "metadata": {},
   "source": [
    "For more information on de pandas data frame see: http://pandas.pydata.org/pandas-docs/stable/generated/pandas.DataFrame.html"
   ]
  },
  {
   "cell_type": "markdown",
   "metadata": {},
   "source": [
    "During this exercises we will focus on a certain part of the datasets. In 'data.ipynb' we saw that all datasets have relevant data from 2015 to 2017, so lets focus on this data range."
   ]
  },
  {
   "cell_type": "code",
   "execution_count": null,
   "metadata": {},
   "outputs": [],
   "source": [
    "start_date = dt.datetime(2015,1,1)\n",
    "end_date = dt.datetime(2017,12,31)"
   ]
  },
  {
   "cell_type": "code",
   "execution_count": null,
   "metadata": {},
   "outputs": [],
   "source": [
    "df_solar = EliaSolarFetcher().fetch().LoadFactor[start_date:end_date]\n",
    "df_wind = EliaWindFetcher(only_cached=True).fetch().LoadFactor[start_date:end_date]"
   ]
  },
  {
   "cell_type": "markdown",
   "metadata": {},
   "source": [
    "Unfortunately, in real-life datastes, sometimes, certain data is missing. We can see this by trying to assign the price to a variable named 'p' and catching the error if no value is available."
   ]
  },
  {
   "cell_type": "code",
   "execution_count": null,
   "metadata": {},
   "outputs": [],
   "source": [
    "df_belpex = ElexysBelpexFetcher().fetch().price\n",
    "dates = pd.date_range(start=start_date, end=end_date, freq='1H')\n",
    "for d in dates:\n",
    "    try:\n",
    "        p = df_belpex[d]\n",
    "    except KeyError:\n",
    "        print(d)"
   ]
  },
  {
   "cell_type": "markdown",
   "metadata": {},
   "source": [
    "We will have to take assumptions of these values. In this case it makes sense to either assume they are the same as the previous hour or the next hour. Or, to take the average of both. In this case we will just assume the price is the same as the previous hour."
   ]
  },
  {
   "cell_type": "code",
   "execution_count": null,
   "metadata": {},
   "outputs": [],
   "source": [
    "dates = pd.date_range(start=start_date, end=end_date, freq='1H')\n",
    "for d in dates:\n",
    "    try:\n",
    "        p = df_belpex[d]\n",
    "    except KeyError:\n",
    "        df_belpex.loc[d] = df_belpex[d-dt.timedelta(hours=1)]\n",
    "df_belpex = df_belpex.sort_index()\n",
    "df_belpex = df_belpex[start_date:end_date]"
   ]
  },
  {
   "cell_type": "markdown",
   "metadata": {},
   "source": [
    "Additionally the wind dataset has certain NaN (Not a Number) values. We don't want these in our dataset either. Therefore, we choose to fill the previouos valid observation until the next valid one. <br>\n",
    "Check for nan's in the wind dataset in the next cell!"
   ]
  },
  {
   "cell_type": "code",
   "execution_count": null,
   "metadata": {},
   "outputs": [],
   "source": []
  },
  {
   "cell_type": "code",
   "execution_count": null,
   "metadata": {},
   "outputs": [],
   "source": [
    "df_wind =  df_wind.fillna(method='pad')"
   ]
  },
  {
   "cell_type": "markdown",
   "metadata": {},
   "source": [
    "Moreover, the different datasets have different time granularities. Different options are possible to deal with this issue. Here we will use the smallest granularity. Solar and PV data are on a 15 minute basis. Therefore, we will also put the belpex data on a 15 minutes basis (the price of every quarter within an hour is just the price of that hour). <br>\n",
    "Check the pandas 'resample' documentation here: https://pandas.pydata.org/pandas-docs/stable/generated/pandas.DataFrame.resample.html"
   ]
  },
  {
   "cell_type": "code",
   "execution_count": null,
   "metadata": {},
   "outputs": [],
   "source": [
    "df_belpex = df_belpex.resample('15T').pad()\n",
    "print(df_belpex[0:10])"
   ]
  },
  {
   "cell_type": "markdown",
   "metadata": {},
   "source": [
    "Now we can all add them into one dataframe with 3 columns and a datetime index."
   ]
  },
  {
   "cell_type": "code",
   "execution_count": null,
   "metadata": {},
   "outputs": [],
   "source": [
    "d = {'belpex': df_belpex.values, 'solar': df_solar.values, 'wind': df_wind.values}\n",
    "data = pd.DataFrame(index=df_belpex.index, data=d)\n",
    "data.head()"
   ]
  },
  {
   "cell_type": "markdown",
   "metadata": {},
   "source": [
    "Usefull commands\n",
    "* data.head(10) prints the first 10 samples\n",
    "* data.tail(10) prints the last 10 samples\n",
    "* data.$wind$ prints the collumn with label $wind$ \n",
    "* data.wind.plot plots the wind timeseries"
   ]
  },
  {
   "cell_type": "code",
   "execution_count": null,
   "metadata": {},
   "outputs": [],
   "source": [
    "data2 = pd.read_pickle('electricity_prices_belgium.pkl')"
   ]
  },
  {
   "cell_type": "markdown",
   "metadata": {},
   "source": [
    "# 1. Visualize the data"
   ]
  },
  {
   "cell_type": "code",
   "execution_count": null,
   "metadata": {
    "collapsed": false
   },
   "outputs": [],
   "source": [
    "print(data.head(10))\n",
    "print(data.tail(10))"
   ]
  },
  {
   "cell_type": "markdown",
   "metadata": {},
   "source": [
    "Create a plot of the different collums using matplotlib.\n",
    "\n",
    "Plotting with matplotlib.pyplot is very similar to plotting in matlab. Some key commands:\n",
    "* <b>plt.figure()</b>: creates a new, blank figure. This changes the current graph and axis to the newly created ones. All commands applied hereafter will be applied to the new, current figure.\n",
    "* <b>plt.show()</b>: show the figure. If you don't execute this command, no figure will show.\n",
    "* For more commands, see http://matplotlib.org/users/pyplot_tutorial.html"
   ]
  },
  {
   "cell_type": "code",
   "execution_count": null,
   "metadata": {
    "collapsed": false
   },
   "outputs": [],
   "source": [
    "start = datetime.datetime(2016, 1, 1, 0, 0)\n",
    "end = datetime.datetime(2016, 1, 14, 23, 45)\n",
    "\n",
    "plt.figure()\n",
    "plt.subplot(311)\n",
    "plt.plot(data.belpex[start:end], label='belpex')\n",
    "plt.legend(frameon=False)\n",
    "plt.subplot(312)\n",
    "plt.plot(data.solar[start:end], label='solar')\n",
    "plt.legend(frameon=False)\n",
    "plt.subplot(313)\n",
    "plt.plot(data.wind[start:end], label='wind')\n",
    "plt.legend(frameon=False)\n",
    "plt.show()"
   ]
  },
  {
   "cell_type": "code",
   "execution_count": null,
   "metadata": {
    "collapsed": false
   },
   "outputs": [],
   "source": [
    "plt.figure()\n",
    "data.belpex.plot(grid=True)\n",
    "plt.show()"
   ]
  },
  {
   "cell_type": "markdown",
   "metadata": {},
   "source": [
    "# 2. Clean the data by removing outliers"
   ]
  },
  {
   "cell_type": "markdown",
   "metadata": {},
   "source": [
    "Outliers are mostly difficult, if not impossible, to predict. Therefore, we like to remove them. Moreover, sometimes these outliers are not even correct. "
   ]
  },
  {
   "cell_type": "markdown",
   "metadata": {},
   "source": [
    "As an example you can check out the belpex price of the year 2011."
   ]
  },
  {
   "cell_type": "code",
   "execution_count": null,
   "metadata": {},
   "outputs": [],
   "source": [
    "df = ElexysBelpexFetcher().fetch()\n",
    "df[df.index.year == 2011].plot()"
   ]
  },
  {
   "cell_type": "markdown",
   "metadata": {},
   "source": [
    "Read why this happened in this study of the CREG: http://www.creg.be/nl/publicaties/study-on-price-spike-on-belpex-dam-28-march-2011 ."
   ]
  },
  {
   "cell_type": "markdown",
   "metadata": {},
   "source": [
    "Clue: Use a generic method from statistics that is independent of the timeseries"
   ]
  },
  {
   "cell_type": "code",
   "execution_count": null,
   "metadata": {
    "collapsed": false
   },
   "outputs": [],
   "source": [
    "mean = data.belpex.mean()\n",
    "std = data.belpex.std()\n",
    "n_std = 5\n",
    "data['belpex'][(data.belpex >= mean + n_std*std)] = mean + n_std*std \n",
    "data['belpex'][(data.belpex <= mean - n_std*std)] = mean + n_std*std "
   ]
  },
  {
   "cell_type": "code",
   "execution_count": null,
   "metadata": {
    "collapsed": false
   },
   "outputs": [],
   "source": [
    "plt.figure()\n",
    "data.belpex.plot(grid=True)\n",
    "plt.show()"
   ]
  },
  {
   "cell_type": "markdown",
   "metadata": {},
   "source": [
    "# 3. Create boxplot"
   ]
  },
  {
   "cell_type": "markdown",
   "metadata": {},
   "source": [
    "It is always useful to get more insight in the data yiu are using."
   ]
  },
  {
   "cell_type": "markdown",
   "metadata": {},
   "source": [
    "Create a boxplot grouped by\n",
    "* days in the week\n",
    "* months\n",
    "* hours\n",
    "* years\n",
    "\n",
    "http://pandas.pydata.org/pandas-docs/version/0.13.1/visualization.html"
   ]
  },
  {
   "cell_type": "markdown",
   "metadata": {},
   "source": [
    "A pandas dataframe has a table like structure. The very first column in the table contains the indices, uniquely identifying each row in the table. These indices can be a set of integers, or like in this case, a set of timestamps, points in time when the specified data was realised.\n",
    "\n",
    "'data.index' will return all timestamps of the dataset as an array. These timestamps have certain attributes available. For a reference, see:\n",
    "http://pandas.pydata.org/pandas-docs/stable/generated/pandas.DatetimeIndex.html\n",
    "\n",
    "Below, attributes of the datetime indices are stored in a new column of the table. This allows us to create box plots grouped by these attributes, such as day of the week, hour, etc."
   ]
  },
  {
   "cell_type": "code",
   "execution_count": null,
   "metadata": {
    "collapsed": false,
    "scrolled": true
   },
   "outputs": [],
   "source": [
    "data['week_days']=data.index.weekday\n",
    "data['month_days']=data.index.day\n",
    "data['hours']=data.index.hour\n",
    "data['months']=data.index.month\n",
    "\n",
    "data.boxplot(column='belpex', by='month_days')"
   ]
  },
  {
   "cell_type": "code",
   "execution_count": null,
   "metadata": {
    "collapsed": false
   },
   "outputs": [],
   "source": [
    "data.boxplot(column='belpex', by='week_days')"
   ]
  },
  {
   "cell_type": "code",
   "execution_count": null,
   "metadata": {
    "collapsed": false
   },
   "outputs": [],
   "source": [
    "data.boxplot(column='belpex', by='hours')"
   ]
  },
  {
   "cell_type": "code",
   "execution_count": null,
   "metadata": {
    "collapsed": false
   },
   "outputs": [],
   "source": [
    "data.boxplot(column='belpex', by='months')"
   ]
  },
  {
   "cell_type": "markdown",
   "metadata": {},
   "source": [
    "Finally, <b>give it a try yourself</b>. Make a boxplot grouped by the year."
   ]
  },
  {
   "cell_type": "code",
   "execution_count": null,
   "metadata": {
    "collapsed": true
   },
   "outputs": [],
   "source": []
  },
  {
   "cell_type": "markdown",
   "metadata": {},
   "source": [
    "# 4. Check for randomness in the time series using an autocorrelation plot\n",
    "\n",
    "This is done by computing autocorrelations for data values at varying time lags. If time series is random, such autocorrelations should be near zero for any and all time-lag separations. If time series is non-random then one or more of the autocorrelations will be significantly non-zero. \n",
    "\n",
    "The autocorrelation is the correlation of a timeseries with a delayed copy of itself and is given by:\n",
    "\\begin{equation}\n",
    "R(\\tau) = \\frac{E[(X_{t}-\\mu)(X_{t+\\tau}-\\mu)]}{\\sigma^2}\n",
    "\\end{equation}\n",
    "where $X_t$ is the time series and $\\tau$ is the time-lag.\n",
    "\n",
    "How to make an autocorrelation plot using pandas in python:\n",
    "http://pandas.pydata.org/pandas-docs/stable/visualization.html#visualization-autocorrelation"
   ]
  },
  {
   "cell_type": "code",
   "execution_count": null,
   "metadata": {
    "collapsed": false
   },
   "outputs": [],
   "source": [
    "# Autocorrelation\n",
    "lags = np.arange(1, 96*10)\n",
    "acors = []\n",
    "for lag in lags:\n",
    "    acors.append(data.belpex.autocorr(lag))\n",
    "plt.figure()\n",
    "plt.plot(lags/4/24.0, acors)\n",
    "plt.xlabel('Time lag in days')\n",
    "plt.grid(True)"
   ]
  },
  {
   "cell_type": "markdown",
   "metadata": {},
   "source": [
    "# 5. Create a scatter matrix "
   ]
  },
  {
   "cell_type": "markdown",
   "metadata": {},
   "source": [
    "<b>Why use a scatter plot matrix?</b>\n",
    "\n",
    "You have three types of data:\n",
    "* electricity price $p$\n",
    "* solar generation $s$\n",
    "* wind generation $w$\n",
    "\n",
    "For certain moments in time, we have three data points. This means we could think of our dataset as points in a four-dimensional space:\n",
    "$$\\begin{Bmatrix}t\\\\p\\\\s\\\\w\\end{Bmatrix}$$\n",
    "\n",
    "Unless you can think of your dataset in four dimensions, let's make it a bit easier. First, we strip away the time dimension. This leaves us with a more dense three-dimensional space containing all our samples. Still, we don't like to think in three dimensions. So let's just try all possible pairs of the remaining dimensions.\n",
    "\n",
    "We visualize each pair with a scatter plot. A scatter plot is simply a graph with dots, which are not connected. Hence, we get a matrix of scatter plots, a scatter matrix.\n",
    "\n",
    "We do all of this to explore our dataset, and find relationships in our data. For example, if the 'price vs solar generation' scatter plot shows dots centered around a straight line, then we can conclude that there is a linear relationship between price and solar generation. This is something that we could exploit later on, when we make our model. "
   ]
  },
  {
   "cell_type": "code",
   "execution_count": null,
   "metadata": {
    "collapsed": false
   },
   "outputs": [],
   "source": [
    "import pandas as pd\n",
    "a = pd.scatter_matrix(data[['belpex', 'solar', 'wind']])"
   ]
  },
  {
   "cell_type": "markdown",
   "metadata": {},
   "source": [
    "If the diagonal is not what you would expect, then you are right. For more information, see\n",
    "\n",
    "http://stackoverflow.com/questions/26360759/understanding-the-diagonal-in-pandas-scatter-matrix-plot"
   ]
  },
  {
   "cell_type": "markdown",
   "metadata": {},
   "source": [
    "# 6. Linear regression"
   ]
  },
  {
   "cell_type": "markdown",
   "metadata": {},
   "source": [
    "Metric to define the quality of the foreceast"
   ]
  },
  {
   "cell_type": "code",
   "execution_count": null,
   "metadata": {
    "collapsed": true
   },
   "outputs": [],
   "source": [
    "def get_accuracy(x, y):\n",
    "    return np.mean(np.abs(x - y))/np.mean(x)"
   ]
  },
  {
   "cell_type": "markdown",
   "metadata": {},
   "source": [
    "In this section, we will use the scikit learn toolbox. For more information, see\n",
    "* [API reference](http://scikit-learn.org/stable/modules/classes.html#module-sklearn.model_selection)\n",
    "* [Tutorials](http://scikit-learn.org/stable/tutorial/index.html)"
   ]
  },
  {
   "cell_type": "code",
   "execution_count": null,
   "metadata": {
    "collapsed": false
   },
   "outputs": [],
   "source": [
    "from sklearn.linear_model import LinearRegression, Ridge\n",
    "model = LinearRegression(normalize=True)\n",
    "lags = [24*4] + list(range(96*7, 96*35, 96))\n",
    "features = ['wind', 'solar']\n",
    "print(lags)\n",
    "len(lags)"
   ]
  },
  {
   "cell_type": "code",
   "execution_count": null,
   "metadata": {
    "collapsed": false
   },
   "outputs": [],
   "source": [
    "index = data.index \n",
    "for lag in lags:\n",
    "    data['belpex_lag_{}'.format(lag)] = data.belpex.shift(lag)\n",
    "    features.append('belpex_lag_{}'.format(lag))\n",
    "data['day_in_year'] = data.index.dayofyear\n",
    "data = data.ix[index, ]\n",
    "data = data.dropna()\n",
    "\n",
    "X = data[features]\n",
    "y = data.belpex\n",
    "\n",
    "cv = KFold(n=len(data), n_folds=10, shuffle=False)\n",
    "data['belpex_pred'] = cross_val_predict(model, X, y, cv=cv, n_jobs=-1)\n",
    "\n",
    "print(get_accuracy(data.belpex, data.belpex_pred))\n"
   ]
  },
  {
   "cell_type": "code",
   "execution_count": null,
   "metadata": {
    "collapsed": false
   },
   "outputs": [],
   "source": [
    "print(features)"
   ]
  },
  {
   "cell_type": "code",
   "execution_count": null,
   "metadata": {
    "collapsed": false
   },
   "outputs": [],
   "source": [
    "start = datetime.datetime(2016, 1, 1, 0, 0)\n",
    "end = datetime.datetime(2016, 1, 7, 23, 45)\n",
    "\n",
    "plt.figure()\n",
    "data.belpex[start:end].plot(grid=True)\n",
    "data.belpex_pred[start:end].plot(grid=True)\n",
    "plt.legend(frameon=False,loc=2)\n",
    "plt.show()"
   ]
  },
  {
   "cell_type": "markdown",
   "metadata": {},
   "source": [
    "# 7. Neural network (a naive implementation)"
   ]
  },
  {
   "cell_type": "code",
   "execution_count": null,
   "metadata": {
    "collapsed": true
   },
   "outputs": [],
   "source": [
    "import os"
   ]
  },
  {
   "cell_type": "code",
   "execution_count": null,
   "metadata": {
    "collapsed": false
   },
   "outputs": [],
   "source": [
    "from keras.models import Sequential\n",
    "from keras.layers.core import Dense\n",
    "from keras.optimizers import RMSprop, SGD"
   ]
  },
  {
   "cell_type": "markdown",
   "metadata": {},
   "source": [
    "Create input and output training data. <br>\n",
    "We will just predict the next day, based on the previous day."
   ]
  },
  {
   "cell_type": "code",
   "execution_count": null,
   "metadata": {
    "collapsed": false
   },
   "outputs": [],
   "source": [
    "n_hours = 24\n",
    "start = datetime.datetime(2016, 1, 1, 0, 0)\n",
    "end = datetime.datetime(2016, 12, 29, 23, 45)\n",
    "X = data['belpex'][start:end].resample('1H').mean().reshape(-1, n_hours)\n",
    "\n",
    "\n",
    "start = datetime.datetime(2016, 1, 2, 0, 0)\n",
    "end = datetime.datetime(2016, 12, 30, 23, 45)\n",
    "Y = data['belpex'][start:end].resample('1H').mean().reshape(-1, n_hours)"
   ]
  },
  {
   "cell_type": "code",
   "execution_count": null,
   "metadata": {
    "collapsed": false
   },
   "outputs": [],
   "source": [
    "print(data['belpex'][start:end].resample('1H').mean().shape)"
   ]
  },
  {
   "cell_type": "code",
   "execution_count": null,
   "metadata": {
    "collapsed": false
   },
   "outputs": [],
   "source": [
    "print('input_features ' + str(X.shape))\n",
    "print('target diminsions ' + str(Y.shape))"
   ]
  },
  {
   "cell_type": "markdown",
   "metadata": {},
   "source": [
    "Create neural network with one hidden layer"
   ]
  },
  {
   "cell_type": "code",
   "execution_count": null,
   "metadata": {
    "collapsed": false
   },
   "outputs": [],
   "source": [
    "neurons = [24, 24 ]\n",
    "activation_functions = ['relu', 'linear']\n",
    "\n",
    "model = Sequential()\n",
    "model.add(Dense(neurons[0], input_dim=X.shape[1], activation=activation_functions[0]))\n",
    "model.add(Dense(neurons[1], activation=activation_functions[1]))\n",
    "    \n",
    "rprop = RMSprop(lr=0.001, rho=0.9, epsilon=1e-6)\n",
    "model.compile(loss='mean_squared_error', optimizer=rprop)"
   ]
  },
  {
   "cell_type": "code",
   "execution_count": null,
   "metadata": {
    "collapsed": false,
    "scrolled": true
   },
   "outputs": [],
   "source": [
    "output_training = model.fit(X, Y, epochs=500, batch_size=32, verbose=0)\n",
    "mse = output_training.history['loss'][-1]\n",
    "print('- mse is %.4f' % mse + ' @ ' + str(len(output_training.history['loss'])))"
   ]
  },
  {
   "cell_type": "code",
   "execution_count": null,
   "metadata": {
    "collapsed": false
   },
   "outputs": [],
   "source": [
    "predict_nn = model.predict(X)\n",
    "\n",
    "print(get_accuracy(Y.flatten(), predict_nn.flatten()))\n"
   ]
  },
  {
   "cell_type": "code",
   "execution_count": null,
   "metadata": {
    "collapsed": false,
    "scrolled": true
   },
   "outputs": [],
   "source": [
    "# Plots\n",
    "plt.figure()\n",
    "plt.plot(Y[:10,:].flatten(), color='blue', label='actual price')\n",
    "plt.plot(predict_nn[:10,:].flatten(), color='red', label='forecast NN')\n",
    "plt.legend(frameon=False)\n",
    "plt.show()"
   ]
  },
  {
   "cell_type": "markdown",
   "metadata": {},
   "source": [
    "# 8. Assignment: Improve the naive implementation in Step 7"
   ]
  },
  {
   "cell_type": "markdown",
   "metadata": {},
   "source": [
    "\n",
    "* Create test and validation set\n",
    "    * https://en.wikipedia.org/wiki/Test_set\n",
    "    * http://stats.stackexchange.com/questions/19048/what-is-the-difference-between-test-set-and-validation-set\n",
    "* Add additional features\n",
    "    * same day of the previous week (see autocorrelation plot)\n",
    "    * use a wind and solar forecast as an additional feature (assume you can make perfect forecasts)\n",
    "    * Use EliaTotalLoad from datafetcher\n",
    "    * Are there other features that have an influence on the price and thus may affect prediction performance\n",
    "* Tune the structure of the neural network (use grid search)\n",
    "    * number of layers\n",
    "        * http://stats.stackexchange.com/questions/181/how-to-choose-the-number-of-hidden-layers-and-nodes-in-a-feedforward-neural-netw\n",
    "    * different activation functions\n",
    "        * https://en.wikipedia.org/wiki/Activation_function"
   ]
  },
  {
   "cell_type": "markdown",
   "metadata": {},
   "source": [
    "Advice: read the documentation on https://keras.io/ for help"
   ]
  }
 ],
 "metadata": {
  "anaconda-cloud": {},
  "kernelspec": {
   "display_name": "Python 3",
   "language": "python",
   "name": "python3"
  },
  "language_info": {
   "codemirror_mode": {
    "name": "ipython",
    "version": 3
   },
   "file_extension": ".py",
   "mimetype": "text/x-python",
   "name": "python",
   "nbconvert_exporter": "python",
   "pygments_lexer": "ipython3",
   "version": "3.6.4"
  }
 },
 "nbformat": 4,
 "nbformat_minor": 2
}
