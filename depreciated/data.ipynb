{
 "cells": [
  {
   "cell_type": "code",
   "execution_count": null,
   "metadata": {},
   "outputs": [],
   "source": [
    "from datafetcher import EliaTotalLoadForecastFetcher, EliaWindFetcher, EliaSolarFetcher, ElexysBelpexFetcher\n",
    "import datetime as dt"
   ]
  },
  {
   "cell_type": "code",
   "execution_count": null,
   "metadata": {},
   "outputs": [],
   "source": [
    "# the first time you use a DataFetcher sub class, it will download some cached data from Dropbox (around 20MB)\n",
    "# this might take a while depending on your connection speed\n",
    "df_solar = EliaSolarFetcher().fetch()\n",
    "df_solar.head()\n",
    "#df_solar.DayAheadForecast[df_solar.index > dt.datetime.now()-dt.timedelta(weeks=1)].plot()"
   ]
  },
  {
   "cell_type": "code",
   "execution_count": null,
   "metadata": {},
   "outputs": [],
   "source": [
    "df_load = EliaTotalLoadForecastFetcher().fetch()\n",
    "df_load.head()"
   ]
  },
  {
   "cell_type": "code",
   "execution_count": null,
   "metadata": {},
   "outputs": [],
   "source": [
    "df_belpex = ElexysBelpexFetcher().fetch()\n",
    "df_belpex.tail()"
   ]
  },
  {
   "cell_type": "code",
   "execution_count": null,
   "metadata": {},
   "outputs": [],
   "source": [
    "# the Elia Wind API is extremely slow, so in this example we only use cached data\n",
    "df_wind = EliaWindFetcher(only_cached=True).fetch()\n",
    "df_wind.tail()"
   ]
  }
 ],
 "metadata": {
  "kernelspec": {
   "display_name": "Python 3",
   "language": "python",
   "name": "python3"
  },
  "language_info": {
   "codemirror_mode": {
    "name": "ipython",
    "version": 3
   },
   "file_extension": ".py",
   "mimetype": "text/x-python",
   "name": "python",
   "nbconvert_exporter": "python",
   "pygments_lexer": "ipython3",
   "version": "3.6.4"
  }
 },
 "nbformat": 4,
 "nbformat_minor": 2
}
